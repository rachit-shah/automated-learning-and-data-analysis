{
  "nbformat": 4,
  "nbformat_minor": 0,
  "metadata": {
    "colab": {
      "name": "hw3q6.ipynb",
      "version": "0.3.2",
      "provenance": [],
      "collapsed_sections": [],
      "toc_visible": true,
      "include_colab_link": true
    },
    "kernelspec": {
      "name": "python3",
      "display_name": "Python 3"
    }
  },
  "cells": [
    {
      "cell_type": "markdown",
      "metadata": {
        "id": "view-in-github",
        "colab_type": "text"
      },
      "source": [
        "<a href=\"https://colab.research.google.com/github/rachit-shah/automated-learning-and-data-analysis/blob/master/hw3q6%20(SVM).ipynb\" target=\"_parent\"><img src=\"https://colab.research.google.com/assets/colab-badge.svg\" alt=\"Open In Colab\"/></a>"
      ]
    },
    {
      "metadata": {
        "id": "CpfDcblIeX3v",
        "colab_type": "text"
      },
      "cell_type": "markdown",
      "source": [
        "### 6. (15 points) [SVM Programming][Xi Yang]\n",
        "### In this question, you will employ SVM to solve a classification problem for the provided data file “hw3q6.csv”. Each row in the data file indicates a sample. The first 12 columns are features and the last column “Class” indicates the label, with 1 and 0 indicating the positive and negative samples, respectively.\n",
        "###Write code in Matlab, R or Python to perform the following tasks. Please report your outputs and key codes in the document file and also include your code (end with .m, .r or .py) in the .zip file."
      ]
    },
    {
      "metadata": {
        "id": "tsRE5kEGdPcx",
        "colab_type": "code",
        "outputId": "003a1697-23ca-442a-fa15-87c44d0de8a2",
        "colab": {
          "base_uri": "https://localhost:8080/",
          "height": 104
        }
      },
      "cell_type": "code",
      "source": [
        "import pandas as pd\n",
        "from sklearn.model_selection import train_test_split\n",
        "from sklearn.svm import SVC\n",
        "from sklearn.grid_search import GridSearchCV\n",
        "from sklearn.metrics import confusion_matrix\n",
        "from sklearn.metrics import precision_recall_fscore_support as score\n",
        "import matplotlib.pyplot as plt\n"
      ],
      "execution_count": 0,
      "outputs": [
        {
          "output_type": "stream",
          "text": [
            "/usr/local/lib/python3.6/dist-packages/sklearn/cross_validation.py:41: DeprecationWarning: This module was deprecated in version 0.18 in favor of the model_selection module into which all the refactored classes and functions are moved. Also note that the interface of the new CV iterators are different from that of this module. This module will be removed in 0.20.\n",
            "  \"This module will be removed in 0.20.\", DeprecationWarning)\n",
            "/usr/local/lib/python3.6/dist-packages/sklearn/grid_search.py:42: DeprecationWarning: This module was deprecated in version 0.18 in favor of the model_selection module into which all the refactored classes and functions are moved. This module will be removed in 0.20.\n",
            "  DeprecationWarning)\n"
          ],
          "name": "stderr"
        }
      ]
    },
    {
      "metadata": {
        "id": "u6iVQJpwevoK",
        "colab_type": "text"
      },
      "cell_type": "markdown",
      "source": [
        "#### (a) (1 point) Load data. Report the size of positive and negative samples in dataset.\n"
      ]
    },
    {
      "metadata": {
        "id": "2D-lZ7SyeB-V",
        "colab_type": "code",
        "outputId": "b8ad68d8-059e-4afc-9d40-5c997a81077e",
        "colab": {
          "base_uri": "https://localhost:8080/",
          "height": 50
        }
      },
      "cell_type": "code",
      "source": [
        "df = pd.read_csv(\"hw3q6.csv\")\n",
        "y = df.Class\n",
        "X = df.drop([\"Class\"],axis=1)\n",
        "numPos = sum(y==1)\n",
        "numNeg = sum(y==0)\n",
        "print(\"Number of Positive Samples (Class=1) =\",numPos)\n",
        "print(\"Number of Negative Samples (Class=0) =\",numNeg)\n"
      ],
      "execution_count": 0,
      "outputs": [
        {
          "output_type": "stream",
          "text": [
            "Number of Positive Samples (Class=1) = 90\n",
            "Number of Negative Samples (Class=0) = 110\n"
          ],
          "name": "stdout"
        }
      ]
    },
    {
      "metadata": {
        "id": "6zuXJHrCiPhn",
        "colab_type": "text"
      },
      "cell_type": "markdown",
      "source": [
        "#### (b) (4 points) Use stratified random sampling to divide the dataset into training data (75%) and testing data (25%). Report the number of positive and negative samples in both training and testing data."
      ]
    },
    {
      "metadata": {
        "id": "2yQBjhomeF-1",
        "colab_type": "code",
        "colab": {}
      },
      "cell_type": "code",
      "source": [
        "X_train, X_test, y_train, y_test = train_test_split(X, y, stratify=y, test_size=0.25, random_state=7)"
      ],
      "execution_count": 0,
      "outputs": []
    },
    {
      "metadata": {
        "id": "xUQ9Uj93eRGu",
        "colab_type": "code",
        "colab": {}
      },
      "cell_type": "code",
      "source": [
        "X_train = X_train.reset_index(drop=True)\n",
        "X_test = X_test.reset_index(drop=True)\n",
        "y_train = y_train.reset_index(drop=True)\n",
        "y_test = y_test.reset_index(drop=True)"
      ],
      "execution_count": 0,
      "outputs": []
    },
    {
      "metadata": {
        "id": "Sjwlz7cQlWTQ",
        "colab_type": "text"
      },
      "cell_type": "markdown",
      "source": [
        "#### (c) (4 points) Take SVM with linear kernel as classifier (third-party packages are allowed to use) and set the regularization parameter C as: [0.1, 0.5, 1, 5, 10, 50, 100], respectively. For each value of C, train a SVM classifier with the training data and get the number of support vectors (SVs). Generate a plot with C as the horizontal axis and number of SVs as the vertical axis. Give a brief analysis for the plot."
      ]
    },
    {
      "metadata": {
        "id": "XKHHFHALk_2C",
        "colab_type": "code",
        "colab": {}
      },
      "cell_type": "code",
      "source": [
        "C = [0.1, 0.5, 1, 5, 10, 50, 100]\n",
        "nSV = []\n",
        "for c in C:\n",
        "  model = SVC(kernel='linear',C=c)\n",
        "  model.fit(X_train,y_train)\n",
        "  nSV.append(len(model.support_vectors_))\n"
      ],
      "execution_count": 0,
      "outputs": []
    },
    {
      "metadata": {
        "id": "CgWQ7HWXkHfU",
        "colab_type": "code",
        "outputId": "4af8c978-0c2c-4e62-95b5-0533561a0250",
        "colab": {
          "base_uri": "https://localhost:8080/",
          "height": 393
        }
      },
      "cell_type": "code",
      "source": [
        "plt.plot(C,nSV)\n",
        "plt.ylabel('Number of Support Vectors')\n",
        "plt.xlabel('Regularization Parameter (C)')\n",
        "plt.title('Regularization Parameter vs No. of SVs')"
      ],
      "execution_count": 0,
      "outputs": [
        {
          "output_type": "execute_result",
          "data": {
            "text/plain": [
              "Text(0.5,1,'Regularization Parameter vs No. of SVs')"
            ]
          },
          "metadata": {
            "tags": []
          },
          "execution_count": 6
        },
        {
          "output_type": "display_data",
          "data": {
            "image/png": "[encoded data removed]",
            "text/plain": [
              "<matplotlib.figure.Figure at 0x7f11ef42edd8>"
            ]
          },
          "metadata": {
            "tags": []
          }
        }
      ]
    },
    {
      "metadata": {
        "id": "mQXHR8X9fXdj",
        "colab_type": "text"
      },
      "cell_type": "markdown",
      "source": [
        "#Analysis of the plot\n",
        "## The regularization parameter (C) is the penalty enforced in the Langrange multiplier such that the number of misclassifications are reduced. Accordingly, larger the C, SVM would try to minimize the margin such that misclassifications do not occur. Conversely, lower the C, the margin fitted by SVM would be more wider even if it misclassifies some points. \n",
        "\n",
        "## As can be seen in the above plot, lower the C, higher the number of support vectors and higher the C, lower the number of support vectors. Hence, they are inversely proportional to each other. For higher C, the margin would be narrower and hence, number of SVs would be lower. In contrast, for lower C, the margin would be wider and hence more number of support vectors."
      ]
    },
    {
      "metadata": {
        "id": "jn1h8bgPpBJG",
        "colab_type": "text"
      },
      "cell_type": "markdown",
      "source": [
        "#### (d) (6 points) Compare 4 different kernel functions, including linear, polynomial, radial basic function (Gaussian kernel), and sigmoid kernel. Make a table to record the accuracy, precision, recall and f-measure of the classification results for the 4 kernel functions. Try to tune the parameters via grid search and report your best results with the optimal parameters. Based on the results, which kernel function will you choose?"
      ]
    },
    {
      "metadata": {
        "id": "8BS_dZoeYWxH",
        "colab_type": "code",
        "colab": {}
      },
      "cell_type": "code",
      "source": [
        "kernels = ['linear','poly','rbf','sigmoid']\n",
        "accuracy = []\n",
        "precisions =[]\n",
        "recalls = []\n",
        "f_measures =[]\n",
        "best_params = []"
      ],
      "execution_count": 0,
      "outputs": []
    },
    {
      "metadata": {
        "id": "VS0pDA_Kra2i",
        "colab_type": "text"
      },
      "cell_type": "markdown",
      "source": [
        "##### Linear Kernel"
      ]
    },
    {
      "metadata": {
        "id": "1LsXmCM7rY9S",
        "colab_type": "code",
        "outputId": "f0473835-b9e1-417e-f424-61db792b6466",
        "colab": {
          "base_uri": "https://localhost:8080/",
          "height": 134
        }
      },
      "cell_type": "code",
      "source": [
        "param_grid = [\n",
        "  {'C': [0.1, 0.5, 1, 5, 10, 50, 100, 1000], 'tol': [0.0001,0.001,0.01,0.1], 'kernel': ['linear']},\n",
        "]\n",
        "grid = GridSearchCV(SVC(random_state=7),param_grid,refit = True)\n",
        "grid.fit(X_train,y_train)\n",
        "bestpar = grid.best_params_\n",
        "best_params.append(bestpar)\n",
        "print('Best Parameters:',bestpar)\n",
        "predicted_class = grid.predict(X_test)\n",
        "precision,recall,fscore,support=score(y_test,predicted_class,average='macro')\n",
        "conf_mat = confusion_matrix(y_test, predicted_class)\n",
        "print(conf_mat)\n",
        "acc = str((conf_mat[0][0]+conf_mat[1][1])/(sum(sum(conf_mat))))\n",
        "print('Precision : ',precision)\n",
        "print('Recall    : ',recall)\n",
        "print('F-score   : ',fscore)\n",
        "print(\"Accuracy  : \",acc)\n",
        "accuracy.append(acc)\n",
        "precisions.append(precision)\n",
        "recalls.append(recall)\n",
        "f_measures.append(fscore)\n",
        "\n"
      ],
      "execution_count": 0,
      "outputs": [
        {
          "output_type": "stream",
          "text": [
            "Best Parameters: {'C': 50, 'kernel': 'linear', 'tol': 0.0001}\n",
            "[[24  3]\n",
            " [ 2 21]]\n",
            "Precision :  0.8990384615384616\n",
            "Recall    :  0.9009661835748792\n",
            "F-score   :  0.8996386993175431\n",
            "Accuracy  :  0.9\n"
          ],
          "name": "stdout"
        }
      ]
    },
    {
      "metadata": {
        "id": "a-Go3dBXW2oe",
        "colab_type": "text"
      },
      "cell_type": "markdown",
      "source": [
        "##### Polynomial Kernel"
      ]
    },
    {
      "metadata": {
        "id": "4m_ZkI00msPk",
        "colab_type": "code",
        "outputId": "913c6a03-f7dc-4f11-8c32-aa19cae013b3",
        "colab": {
          "base_uri": "https://localhost:8080/",
          "height": 134
        }
      },
      "cell_type": "code",
      "source": [
        "param_grid = [\n",
        "  {'C': [0.1, 0.5, 1, 5, 10, 50, 100, 1000], 'gamma': [0.001, 0.0001], 'coef0': [0,0.001,0.01,0.1], 'tol': [0.0001,0.001,0.01,0.1], 'degree':[0,1,2,3,4,5,6], 'kernel': ['poly']}\n",
        "]\n",
        "grid = GridSearchCV(SVC(random_state=7),param_grid,refit = True)\n",
        "grid.fit(X_train,y_train)\n",
        "bestpar = grid.best_params_\n",
        "best_params.append(bestpar)\n",
        "print('Best Parameters:',bestpar)\n",
        "predicted_class = grid.predict(X_test)\n",
        "precision,recall,fscore,support=score(y_test,predicted_class,average='macro')\n",
        "conf_mat = confusion_matrix(y_test, predicted_class)\n",
        "print(conf_mat)\n",
        "acc = str((conf_mat[0][0]+conf_mat[1][1])/(sum(sum(conf_mat))))\n",
        "print('Precision : ',precision)\n",
        "print('Recall    : ',recall)\n",
        "print('F-score   : ',fscore)\n",
        "print(\"Accuracy  : \",acc)\n",
        "accuracy.append(acc)\n",
        "precisions.append(precision)\n",
        "recalls.append(recall)\n",
        "f_measures.append(fscore)"
      ],
      "execution_count": 0,
      "outputs": [
        {
          "output_type": "stream",
          "text": [
            "Best Parameters: {'C': 1000, 'coef0': 0.001, 'degree': 2, 'gamma': 0.001, 'kernel': 'poly', 'tol': 0.0001}\n",
            "[[24  3]\n",
            " [ 0 23]]\n",
            "Precision :  0.9423076923076923\n",
            "Recall    :  0.9444444444444444\n",
            "F-score   :  0.9399759903961584\n",
            "Accuracy  :  0.94\n"
          ],
          "name": "stdout"
        }
      ]
    },
    {
      "metadata": {
        "id": "QrWufs5dW6KN",
        "colab_type": "text"
      },
      "cell_type": "markdown",
      "source": [
        "##### rbf kernel"
      ]
    },
    {
      "metadata": {
        "id": "lGk1Fx6UshnS",
        "colab_type": "code",
        "outputId": "4880173f-4bf2-4ca8-dc90-adab22a7057f",
        "colab": {
          "base_uri": "https://localhost:8080/",
          "height": 134
        }
      },
      "cell_type": "code",
      "source": [
        "param_grid = [\n",
        "  {'C': [0.1, 0.5, 1, 5, 10, 50, 100, 1000], 'gamma': [0.001, 0.0001], 'tol': [0.0001,0.001,0.01,0.1],'kernel': ['rbf'] }\n",
        "]\n",
        "grid = GridSearchCV(SVC(random_state=7),param_grid,refit = True)\n",
        "grid.fit(X_train,y_train)\n",
        "bestpar = grid.best_params_\n",
        "best_params.append(bestpar)\n",
        "print('Best Parameters:',bestpar)\n",
        "predicted_class = grid.predict(X_test)\n",
        "precision,recall,fscore,support=score(y_test,predicted_class,average='macro')\n",
        "conf_mat = confusion_matrix(y_test, predicted_class)\n",
        "print(conf_mat)\n",
        "acc = str((conf_mat[0][0]+conf_mat[1][1])/(sum(sum(conf_mat))))\n",
        "print('Precision : ',precision)\n",
        "print('Recall    : ',recall)\n",
        "print('F-score   : ',fscore)\n",
        "print(\"Accuracy  : \",acc)\n",
        "accuracy.append(acc)\n",
        "precisions.append(precision)\n",
        "recalls.append(recall)\n",
        "f_measures.append(fscore)"
      ],
      "execution_count": 0,
      "outputs": [
        {
          "output_type": "stream",
          "text": [
            "Best Parameters: {'C': 1000, 'gamma': 0.001, 'kernel': 'rbf', 'tol': 0.0001}\n",
            "[[26  1]\n",
            " [ 0 23]]\n",
            "Precision :  0.9791666666666667\n",
            "Recall    :  0.9814814814814814\n",
            "F-score   :  0.9799277398635087\n",
            "Accuracy  :  0.98\n"
          ],
          "name": "stdout"
        }
      ]
    },
    {
      "metadata": {
        "id": "B-A5dUnbW84X",
        "colab_type": "text"
      },
      "cell_type": "markdown",
      "source": [
        "##### sigmoid kernel"
      ]
    },
    {
      "metadata": {
        "id": "CqZnhBSxsvD0",
        "colab_type": "code",
        "outputId": "3dd107fd-80d8-4194-bebc-e6ef35f32221",
        "colab": {
          "base_uri": "https://localhost:8080/",
          "height": 134
        }
      },
      "cell_type": "code",
      "source": [
        "param_grid = [\n",
        "  {'C': [0.1, 0.5, 1, 5, 10, 50, 100, 1000], 'gamma': [0.001, 0.0001], 'coef0': [0,0.001,0.01,0.1], 'tol': [0.0001,0.001,0.01,0.1],'kernel': ['sigmoid']}\n",
        "]\n",
        "grid = GridSearchCV(SVC(random_state=7),param_grid,refit = True)\n",
        "grid.fit(X_train,y_train)\n",
        "bestpar = grid.best_params_\n",
        "best_params.append(bestpar)\n",
        "print('Best Parameters:',bestpar)\n",
        "predicted_class = grid.predict(X_test)\n",
        "precision,recall,fscore,support=score(y_test,predicted_class,average='macro')\n",
        "conf_mat = confusion_matrix(y_test, predicted_class)\n",
        "print(conf_mat)\n",
        "acc = str((conf_mat[0][0]+conf_mat[1][1])/(sum(sum(conf_mat))))\n",
        "print('Precision : ',precision)\n",
        "print('Recall    : ',recall)\n",
        "print('F-score   : ',fscore)\n",
        "print(\"Accuracy  : \",acc)\n",
        "accuracy.append(acc)\n",
        "precisions.append(precision)\n",
        "recalls.append(recall)\n",
        "f_measures.append(fscore)"
      ],
      "execution_count": 0,
      "outputs": [
        {
          "output_type": "stream",
          "text": [
            "Best Parameters: {'C': 50, 'coef0': 0, 'gamma': 0.001, 'kernel': 'sigmoid', 'tol': 0.0001}\n",
            "[[24  3]\n",
            " [ 1 22]]\n",
            "Precision :  0.9199999999999999\n",
            "Recall    :  0.9227053140096618\n",
            "F-score   :  0.9198717948717948\n",
            "Accuracy  :  0.92\n"
          ],
          "name": "stdout"
        }
      ]
    },
    {
      "metadata": {
        "id": "NuBu6XM0s1kH",
        "colab_type": "code",
        "colab": {}
      },
      "cell_type": "code",
      "source": [
        "res_tab = pd.DataFrame({'Kernel':kernels,'Accuracy':accuracy,'Precision':precisions,'Recall':recalls,'F-Score':f_measures,'BestParams':best_params},columns=['Kernel','Accuracy','Precision','Recall','F-Score','BestParams'])"
      ],
      "execution_count": 0,
      "outputs": []
    },
    {
      "metadata": {
        "id": "e_cFysTqmHG2",
        "colab_type": "code",
        "outputId": "533bc97a-fae7-4ef6-f83a-a6ee5c0dde06",
        "colab": {
          "base_uri": "https://localhost:8080/",
          "height": 166
        }
      },
      "cell_type": "code",
      "source": [
        "pd.set_option('display.max_colwidth', 1000)\n",
        "res_tab"
      ],
      "execution_count": 0,
      "outputs": [
        {
          "output_type": "execute_result",
          "data": {
            "text/html": [
              "<div>\n",
              "<style scoped>\n",
              "    .dataframe tbody tr th:only-of-type {\n",
              "        vertical-align: middle;\n",
              "    }\n",
              "\n",
              "    .dataframe tbody tr th {\n",
              "        vertical-align: top;\n",
              "    }\n",
              "\n",
              "    .dataframe thead th {\n",
              "        text-align: right;\n",
              "    }\n",
              "</style>\n",
              "<table border=\"1\" class=\"dataframe\">\n",
              "  <thead>\n",
              "    <tr style=\"text-align: right;\">\n",
              "      <th></th>\n",
              "      <th>Kernel</th>\n",
              "      <th>Accuracy</th>\n",
              "      <th>Precision</th>\n",
              "      <th>Recall</th>\n",
              "      <th>F-Score</th>\n",
              "      <th>BestParams</th>\n",
              "    </tr>\n",
              "  </thead>\n",
              "  <tbody>\n",
              "    <tr>\n",
              "      <th>0</th>\n",
              "      <td>linear</td>\n",
              "      <td>0.9</td>\n",
              "      <td>0.899038</td>\n",
              "      <td>0.900966</td>\n",
              "      <td>0.899639</td>\n",
              "      <td>{'C': 50, 'kernel': 'linear', 'tol': 0.0001}</td>\n",
              "    </tr>\n",
              "    <tr>\n",
              "      <th>1</th>\n",
              "      <td>poly</td>\n",
              "      <td>0.94</td>\n",
              "      <td>0.942308</td>\n",
              "      <td>0.944444</td>\n",
              "      <td>0.939976</td>\n",
              "      <td>{'C': 1000, 'coef0': 0.001, 'degree': 2, 'gamma': 0.001, 'kernel': 'poly', 'tol': 0.0001}</td>\n",
              "    </tr>\n",
              "    <tr>\n",
              "      <th>2</th>\n",
              "      <td>rbf</td>\n",
              "      <td>0.98</td>\n",
              "      <td>0.979167</td>\n",
              "      <td>0.981481</td>\n",
              "      <td>0.979928</td>\n",
              "      <td>{'C': 1000, 'gamma': 0.001, 'kernel': 'rbf', 'tol': 0.0001}</td>\n",
              "    </tr>\n",
              "    <tr>\n",
              "      <th>3</th>\n",
              "      <td>sigmoid</td>\n",
              "      <td>0.92</td>\n",
              "      <td>0.920000</td>\n",
              "      <td>0.922705</td>\n",
              "      <td>0.919872</td>\n",
              "      <td>{'C': 50, 'coef0': 0, 'gamma': 0.001, 'kernel': 'sigmoid', 'tol': 0.0001}</td>\n",
              "    </tr>\n",
              "  </tbody>\n",
              "</table>\n",
              "</div>"
            ],
            "text/plain": [
              "    Kernel Accuracy  Precision    Recall   F-Score  \\\n",
              "0   linear      0.9   0.899038  0.900966  0.899639   \n",
              "1     poly     0.94   0.942308  0.944444  0.939976   \n",
              "2      rbf     0.98   0.979167  0.981481  0.979928   \n",
              "3  sigmoid     0.92   0.920000  0.922705  0.919872   \n",
              "\n",
              "                                                                                  BestParams  \n",
              "0                                               {'C': 50, 'kernel': 'linear', 'tol': 0.0001}  \n",
              "1  {'C': 1000, 'coef0': 0.001, 'degree': 2, 'gamma': 0.001, 'kernel': 'poly', 'tol': 0.0001}  \n",
              "2                                {'C': 1000, 'gamma': 0.001, 'kernel': 'rbf', 'tol': 0.0001}  \n",
              "3                  {'C': 50, 'coef0': 0, 'gamma': 0.001, 'kernel': 'sigmoid', 'tol': 0.0001}  "
            ]
          },
          "metadata": {
            "tags": []
          },
          "execution_count": 13
        }
      ]
    },
    {
      "metadata": {
        "id": "Btsu9RkXnVGP",
        "colab_type": "text"
      },
      "cell_type": "markdown",
      "source": [
        "# Looking at the above table, we would choose rbf kernel since it provides the best precision, recall, f-score and accuracy."
      ]
    },
    {
      "metadata": {
        "id": "qXk878TengA-",
        "colab_type": "code",
        "colab": {}
      },
      "cell_type": "code",
      "source": [
        ""
      ],
      "execution_count": 0,
      "outputs": []
    }
  ]
}